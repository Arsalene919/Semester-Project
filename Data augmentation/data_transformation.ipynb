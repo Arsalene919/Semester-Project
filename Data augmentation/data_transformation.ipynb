{
 "cells": [
  {
   "cell_type": "code",
   "execution_count": 14,
   "metadata": {},
   "outputs": [
    {
     "name": "stdout",
     "output_type": "stream",
     "text": [
      "Processed data has been saved to /data/arselane/cncsharedtask/subtask2/data/augmented_train_subtask2.csv\n"
     ]
    }
   ],
   "source": [
    "import pandas as pd\n",
    "import re\n",
    "\n",
    "# File paths\n",
    "input_file_path = '/data/arselane/cncsharedtask/subtask2/data/generated_examples (2).txt'\n",
    "output_file_path = '/data/arselane/cncsharedtask/subtask2/data/augmented_train_subtask2.csv'\n",
    "\n",
    "# Read the text file\n",
    "with open(input_file_path, 'r') as file:\n",
    "    lines = file.readlines()\n",
    "\n",
    "# Initialize lists to store the extracted data\n",
    "domains = []\n",
    "causal_text_pairs = []\n",
    "\n",
    "# Variables to hold current domain and causal pairs\n",
    "current_domain = None\n",
    "current_pairs = []\n",
    "\n",
    "# Process each line in the file\n",
    "for line in lines:\n",
    "    line = line.strip()\n",
    "    \n",
    "    if line.startswith('</s>'):\n",
    "        # If we reach a new domain section, save the previous data if any\n",
    "        if current_domain and current_pairs:\n",
    "            domains.append(current_domain)\n",
    "            causal_text_pairs.append(' '.join(current_pairs))\n",
    "            current_pairs = []\n",
    "    elif line.startswith('in the domain of'):\n",
    "        # Extract the domain\n",
    "        current_domain = line.replace('in the domain of', '').strip()\n",
    "    elif line:\n",
    "        # Collect the causal text pairs\n",
    "        current_pairs.append(line)\n",
    "\n",
    "# Add the last collected domain and pairs if any\n",
    "if current_domain and current_pairs:\n",
    "    domains.append(current_domain)\n",
    "    causal_text_pairs.append(' '.join(current_pairs))\n",
    "\n",
    "# Create a DataFrame from the extracted data\n",
    "df = pd.DataFrame({\n",
    "    'num_rs': domains,\n",
    "    'causal_text_w_pairs': causal_text_pairs\n",
    "})\n",
    "\n",
    "# Save the DataFrame to a new CSV file with swapped columns\n",
    "df.to_csv(output_file_path, index=False, columns=['causal_text_w_pairs', 'num_rs'])\n",
    "\n",
    "print(f\"Processed data has been saved to {output_file_path}\")"
   ]
  },
  {
   "cell_type": "code",
   "execution_count": 15,
   "metadata": {},
   "outputs": [],
   "source": [
    "import pandas as pd\n",
    "\n",
    "# Reading the given CSV file\n",
    "df = pd.read_csv(\"/data/arselane/cncsharedtask/subtask2/data/augmented_train_subtask2.csv\")\n",
    "\n",
    "# Adding a new column 'sent_id' starting from 10000 and incrementing by 1\n",
    "df['sent_id'] = range(10000, 10000 + len(df))\n",
    "\n",
    "# Adding a new column 'corpus' with constant value 'cnc'\n",
    "df['corpus'] = 'cnc'\n",
    "\n",
    "# Adding a new column 'eg_id' with constant value 0\n",
    "df['eg_id'] = 0\n",
    "\n",
    "# Adding a new column 'doc_id' with values 'train_1000_10000' where 'train_' is constant, and the other two values are incremented by 1\n",
    "df['doc_id'] = [f'train_{i}_{j}' for i, j in zip(range(1000, 1000 + len(df)), range(10000, 10000 + len(df)))]\n",
    "\n",
    "# Adding a new column 'index' with values based on variables i, j, k\n",
    "df['index'] = [f'cnc_train_{i}_{j}_{k}_10' for i, j, k in zip(range(100, 100 + len(df)), range(1000, 1000 + len(df)), range(10000, 10000 + len(df)))]\n",
    "\n",
    "# Reordering columns\n",
    "df = df[['corpus', 'doc_id', 'sent_id', 'eg_id', 'index', 'causal_text_w_pairs', 'num_rs']]\n",
    "\n",
    "# Store the DataFrame into  CSV file with the added 'sent_id' column\n",
    "df.to_csv('/data/arselane/cncsharedtask/subtask2/data/augmented_train_subtask2.csv', index=None)"
   ]
  },
  {
   "cell_type": "code",
   "execution_count": 16,
   "metadata": {},
   "outputs": [],
   "source": [
    "import pandas as pd\n",
    "import re\n",
    "\n",
    "# Reading the given CSV file\n",
    "df = pd.read_csv(\"/data/arselane/cncsharedtask/subtask2/data/augmented_train_subtask2.csv\")\n",
    "\n",
    "# Adding a new column 'text' with the same data as 'causal_text_w_pairs' but without <arg1>, <arg0>, <sig0> tags\n",
    "df['text'] = df['causal_text_w_pairs'].apply(lambda x: re.sub(r'<(/?ARG[01]|/?SIG0)>', '', x))\n",
    "\n",
    "# Remove square brackets from the 'text' column sentences\n",
    "df['text'] = df['text'].apply(lambda x: re.sub(r'[\\[\\]]', '', x))\n",
    "# Reordering columns\n",
    "df = df[['corpus', 'doc_id', 'sent_id', 'eg_id', 'index', 'text', 'causal_text_w_pairs', 'num_rs']]\n",
    "\n",
    "# Store the DataFrame into a CSV file with the added columns\n",
    "df.to_csv('/data/arselane/cncsharedtask/subtask2/data/augmented_train_subtask2.csv', index=None)"
   ]
  },
  {
   "cell_type": "code",
   "execution_count": 18,
   "metadata": {},
   "outputs": [],
   "source": [
    "# Add the 'has_causality' column\n",
    "df['has_causality'] = df['causal_text_w_pairs'].apply(lambda x: '1' if x else '0')"
   ]
  },
  {
   "cell_type": "code",
   "execution_count": 19,
   "metadata": {},
   "outputs": [],
   "source": [
    "df2 = pd.read_csv('/data/arselane/cncsharedtask/subtask2/data/CNC_chatgpt_output.csv')"
   ]
  },
  {
   "cell_type": "code",
   "execution_count": 21,
   "metadata": {},
   "outputs": [
    {
     "name": "stdout",
     "output_type": "stream",
     "text": [
      "Processed data has been saved to None\n"
     ]
    }
   ],
   "source": [
    "df3 = pd.concat([df2, df], ignore_index=True)\n",
    "\n",
    "# Save the combined DataFrame to a new CSV file\n",
    "output_csv_path = df3.to_csv('/data/arselane/cncsharedtask/subtask2/data/train_subtask2_augmented_roberta.csv', index=False)\n",
    "\n",
    "print(f\"Processed data has been saved to {output_csv_path}\")"
   ]
  },
  {
   "cell_type": "code",
   "execution_count": null,
   "metadata": {},
   "outputs": [],
   "source": []
  }
 ],
 "metadata": {
  "kernelspec": {
   "display_name": "virtual",
   "language": "python",
   "name": "python3"
  },
  "language_info": {
   "codemirror_mode": {
    "name": "ipython",
    "version": 3
   },
   "file_extension": ".py",
   "mimetype": "text/x-python",
   "name": "python",
   "nbconvert_exporter": "python",
   "pygments_lexer": "ipython3",
   "version": "3.11.9"
  }
 },
 "nbformat": 4,
 "nbformat_minor": 2
}
